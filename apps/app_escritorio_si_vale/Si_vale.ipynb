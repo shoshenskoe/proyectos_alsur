{
  "cells": [
    {
      "cell_type": "markdown",
      "metadata": {
        "id": "vx0lon7_JdJU"
      },
      "source": [
        "# Librerías"
      ]
    },
    {
      "cell_type": "code",
      "execution_count": 11,
      "metadata": {
        "id": "VN9pHwT3OM9A"
      },
      "outputs": [
        {
          "ename": "AttributeError",
          "evalue": "partially initialized module 'pandas' from 'C:\\Users\\SALCIDOA\\AppData\\Local\\Packages\\PythonSoftwareFoundation.Python.3.13_qbz5n2kfra8p0\\LocalCache\\local-packages\\Python313\\site-packages\\pandas\\__init__.py' has no attribute 'core' (most likely due to a circular import)",
          "output_type": "error",
          "traceback": [
            "\u001b[31m---------------------------------------------------------------------------\u001b[39m",
            "\u001b[31mAttributeError\u001b[39m                            Traceback (most recent call last)",
            "\u001b[36mCell\u001b[39m\u001b[36m \u001b[39m\u001b[32mIn[11]\u001b[39m\u001b[32m, line 1\u001b[39m\n\u001b[32m----> \u001b[39m\u001b[32m1\u001b[39m \u001b[38;5;28;01mimport\u001b[39;00m\u001b[38;5;250m \u001b[39m\u001b[34;01mpandas\u001b[39;00m\u001b[38;5;250m \u001b[39m\u001b[38;5;28;01mas\u001b[39;00m\u001b[38;5;250m \u001b[39m\u001b[34;01mpd\u001b[39;00m\n\u001b[32m      2\u001b[39m \u001b[38;5;28;01mimport\u001b[39;00m\u001b[38;5;250m \u001b[39m\u001b[34;01mnumpy\u001b[39;00m\u001b[38;5;250m \u001b[39m\u001b[38;5;28;01mas\u001b[39;00m\u001b[38;5;250m \u001b[39m\u001b[34;01mnp\u001b[39;00m\n",
            "\u001b[36mFile \u001b[39m\u001b[32m~\\AppData\\Local\\Packages\\PythonSoftwareFoundation.Python.3.13_qbz5n2kfra8p0\\LocalCache\\local-packages\\Python313\\site-packages\\pandas\\__init__.py:151\u001b[39m\n\u001b[32m    133\u001b[39m \u001b[38;5;28;01mfrom\u001b[39;00m\u001b[38;5;250m \u001b[39m\u001b[34;01mpandas\u001b[39;00m\u001b[34;01m.\u001b[39;00m\u001b[34;01mcore\u001b[39;00m\u001b[34;01m.\u001b[39;00m\u001b[34;01mreshape\u001b[39;00m\u001b[34;01m.\u001b[39;00m\u001b[34;01mapi\u001b[39;00m\u001b[38;5;250m \u001b[39m\u001b[38;5;28;01mimport\u001b[39;00m (\n\u001b[32m    134\u001b[39m     concat,\n\u001b[32m    135\u001b[39m     lreshape,\n\u001b[32m   (...)\u001b[39m\u001b[32m    147\u001b[39m     qcut,\n\u001b[32m    148\u001b[39m )\n\u001b[32m    150\u001b[39m \u001b[38;5;28;01mfrom\u001b[39;00m\u001b[38;5;250m \u001b[39m\u001b[34;01mpandas\u001b[39;00m\u001b[38;5;250m \u001b[39m\u001b[38;5;28;01mimport\u001b[39;00m api, arrays, errors, io, plotting, tseries\n\u001b[32m--> \u001b[39m\u001b[32m151\u001b[39m \u001b[38;5;28;01mfrom\u001b[39;00m\u001b[38;5;250m \u001b[39m\u001b[34;01mpandas\u001b[39;00m\u001b[38;5;250m \u001b[39m\u001b[38;5;28;01mimport\u001b[39;00m testing\n\u001b[32m    152\u001b[39m \u001b[38;5;28;01mfrom\u001b[39;00m\u001b[38;5;250m \u001b[39m\u001b[34;01mpandas\u001b[39;00m\u001b[34;01m.\u001b[39;00m\u001b[34;01mutil\u001b[39;00m\u001b[34;01m.\u001b[39;00m\u001b[34;01m_print_versions\u001b[39;00m\u001b[38;5;250m \u001b[39m\u001b[38;5;28;01mimport\u001b[39;00m show_versions\n\u001b[32m    154\u001b[39m \u001b[38;5;28;01mfrom\u001b[39;00m\u001b[38;5;250m \u001b[39m\u001b[34;01mpandas\u001b[39;00m\u001b[34;01m.\u001b[39;00m\u001b[34;01mio\u001b[39;00m\u001b[34;01m.\u001b[39;00m\u001b[34;01mapi\u001b[39;00m\u001b[38;5;250m \u001b[39m\u001b[38;5;28;01mimport\u001b[39;00m (\n\u001b[32m    155\u001b[39m     \u001b[38;5;66;03m# excel\u001b[39;00m\n\u001b[32m    156\u001b[39m     ExcelFile,\n\u001b[32m   (...)\u001b[39m\u001b[32m    184\u001b[39m     read_spss,\n\u001b[32m    185\u001b[39m )\n",
            "\u001b[36mFile \u001b[39m\u001b[32m~\\AppData\\Local\\Packages\\PythonSoftwareFoundation.Python.3.13_qbz5n2kfra8p0\\LocalCache\\local-packages\\Python313\\site-packages\\pandas\\testing.py:6\u001b[39m\n\u001b[32m      1\u001b[39m \u001b[33;03m\"\"\"\u001b[39;00m\n\u001b[32m      2\u001b[39m \u001b[33;03mPublic testing utility functions.\u001b[39;00m\n\u001b[32m      3\u001b[39m \u001b[33;03m\"\"\"\u001b[39;00m\n\u001b[32m----> \u001b[39m\u001b[32m6\u001b[39m \u001b[38;5;28;01mfrom\u001b[39;00m\u001b[38;5;250m \u001b[39m\u001b[34;01mpandas\u001b[39;00m\u001b[34;01m.\u001b[39;00m\u001b[34;01m_testing\u001b[39;00m\u001b[38;5;250m \u001b[39m\u001b[38;5;28;01mimport\u001b[39;00m (\n\u001b[32m      7\u001b[39m     assert_extension_array_equal,\n\u001b[32m      8\u001b[39m     assert_frame_equal,\n\u001b[32m      9\u001b[39m     assert_index_equal,\n\u001b[32m     10\u001b[39m     assert_series_equal,\n\u001b[32m     11\u001b[39m )\n\u001b[32m     13\u001b[39m __all__ = [\n\u001b[32m     14\u001b[39m     \u001b[33m\"\u001b[39m\u001b[33massert_extension_array_equal\u001b[39m\u001b[33m\"\u001b[39m,\n\u001b[32m     15\u001b[39m     \u001b[33m\"\u001b[39m\u001b[33massert_frame_equal\u001b[39m\u001b[33m\"\u001b[39m,\n\u001b[32m     16\u001b[39m     \u001b[33m\"\u001b[39m\u001b[33massert_series_equal\u001b[39m\u001b[33m\"\u001b[39m,\n\u001b[32m     17\u001b[39m     \u001b[33m\"\u001b[39m\u001b[33massert_index_equal\u001b[39m\u001b[33m\"\u001b[39m,\n\u001b[32m     18\u001b[39m ]\n",
            "\u001b[36mFile \u001b[39m\u001b[32m~\\AppData\\Local\\Packages\\PythonSoftwareFoundation.Python.3.13_qbz5n2kfra8p0\\LocalCache\\local-packages\\Python313\\site-packages\\pandas\\_testing\\__init__.py:405\u001b[39m\n\u001b[32m    400\u001b[39m     \u001b[38;5;28;01mimport\u001b[39;00m\u001b[38;5;250m \u001b[39m\u001b[34;01mpytest\u001b[39;00m\n\u001b[32m    402\u001b[39m     \u001b[38;5;28;01mreturn\u001b[39;00m pytest.raises(expected_exception, match=\u001b[38;5;28;01mNone\u001b[39;00m)\n\u001b[32m--> \u001b[39m\u001b[32m405\u001b[39m cython_table = \u001b[43mpd\u001b[49m\u001b[43m.\u001b[49m\u001b[43mcore\u001b[49m.common._cython_table.items()\n\u001b[32m    408\u001b[39m \u001b[38;5;28;01mdef\u001b[39;00m\u001b[38;5;250m \u001b[39m\u001b[34mget_cython_table_params\u001b[39m(ndframe, func_names_and_expected):\n\u001b[32m    409\u001b[39m \u001b[38;5;250m    \u001b[39m\u001b[33;03m\"\"\"\u001b[39;00m\n\u001b[32m    410\u001b[39m \u001b[33;03m    Combine frame, functions from com._cython_table\u001b[39;00m\n\u001b[32m    411\u001b[39m \u001b[33;03m    keys and expected result.\u001b[39;00m\n\u001b[32m   (...)\u001b[39m\u001b[32m    423\u001b[39m \u001b[33;03m        List of three items (DataFrame, function, expected result)\u001b[39;00m\n\u001b[32m    424\u001b[39m \u001b[33;03m    \"\"\"\u001b[39;00m\n",
            "\u001b[31mAttributeError\u001b[39m: partially initialized module 'pandas' from 'C:\\Users\\SALCIDOA\\AppData\\Local\\Packages\\PythonSoftwareFoundation.Python.3.13_qbz5n2kfra8p0\\LocalCache\\local-packages\\Python313\\site-packages\\pandas\\__init__.py' has no attribute 'core' (most likely due to a circular import)"
          ]
        }
      ],
      "source": [
        "import pandas as pd\n",
        "import numpy as np\n"
      ]
    },
    {
      "cell_type": "markdown",
      "metadata": {
        "id": "o3uqKjm4sont"
      },
      "source": [
        "Para el mes de julio revisar:\n",
        "- Sandra Morales Aguilar\n",
        "- Comisionista tamaulipas\n",
        "- Ulises san martin\n"
      ]
    },
    {
      "cell_type": "markdown",
      "metadata": {
        "id": "iZdvBgymt1sv"
      },
      "source": [
        "#Datos"
      ]
    },
    {
      "cell_type": "code",
      "execution_count": 1,
      "metadata": {
        "colab": {
          "base_uri": "https://localhost:8080/"
        },
        "id": "TUgscpiIVEWt",
        "outputId": "f3129703-c5d1-43d8-e977-6690e8ccbe12"
      },
      "outputs": [],
      "source": [
        "Nombre=\"sept\"+\".xlsx\"\n",
        "\n"
      ]
    },
    {
      "cell_type": "code",
      "execution_count": 2,
      "metadata": {
        "colab": {
          "base_uri": "https://localhost:8080/"
        },
        "id": "Qa4OjVzQVQx6",
        "outputId": "db3f74bb-46c0-4710-8ee6-2cc861ed009b"
      },
      "outputs": [],
      "source": [
        "\n",
        "Guardarcomo=\"Si vale \"+\"sept_2025\"+\".xlsx\""
      ]
    },
    {
      "cell_type": "code",
      "execution_count": 3,
      "metadata": {},
      "outputs": [],
      "source": [
        "Referencia = \"Septiembre 2025\""
      ]
    },
    {
      "cell_type": "markdown",
      "metadata": {
        "id": "dsjYTLMaNwCh"
      },
      "source": [
        "# Proceso de limpieza de la guía de Ángel\n"
      ]
    },
    {
      "cell_type": "markdown",
      "metadata": {},
      "source": [
        "AQUI SE OBTIENE EL DF EN SUCIO Y EL DATAFRAME QUE SE PROCESARA"
      ]
    },
    {
      "cell_type": "code",
      "execution_count": 7,
      "metadata": {
        "colab": {
          "base_uri": "https://localhost:8080/",
          "height": 478
        },
        "id": "IFYlb1ovND6u",
        "outputId": "0fd22790-d7cd-4106-9ba1-e6717065eef7"
      },
      "outputs": [
        {
          "ename": "NameError",
          "evalue": "name 'pd' is not defined",
          "output_type": "error",
          "traceback": [
            "\u001b[31m---------------------------------------------------------------------------\u001b[39m",
            "\u001b[31mNameError\u001b[39m                                 Traceback (most recent call last)",
            "\u001b[36mCell\u001b[39m\u001b[36m \u001b[39m\u001b[32mIn[7]\u001b[39m\u001b[32m, line 2\u001b[39m\n\u001b[32m      1\u001b[39m path_archivo = \u001b[33mr\u001b[39m\u001b[33m\"\u001b[39m\u001b[33mC:\u001b[39m\u001b[33m\\\u001b[39m\u001b[33mUsers\u001b[39m\u001b[33m\\\u001b[39m\u001b[33mSALCIDOA\u001b[39m\u001b[33m\\\u001b[39m\u001b[33mDownloads\u001b[39m\u001b[33m\\\u001b[39m\u001b[33marchivo_para_probar_si_vale.xlsx\u001b[39m\u001b[33m\"\u001b[39m\n\u001b[32m----> \u001b[39m\u001b[32m2\u001b[39m dfsucio=\u001b[43mpd\u001b[49m.read_excel(path_archivo, skiprows=[\u001b[32m0\u001b[39m,\u001b[32m1\u001b[39m,\u001b[32m2\u001b[39m,\u001b[32m3\u001b[39m,\u001b[32m4\u001b[39m,\u001b[32m5\u001b[39m,\u001b[32m6\u001b[39m,\u001b[32m7\u001b[39m,\u001b[32m8\u001b[39m,\u001b[32m9\u001b[39m,\u001b[32m10\u001b[39m,\u001b[32m11\u001b[39m,\u001b[32m12\u001b[39m,\u001b[32m13\u001b[39m,\u001b[32m14\u001b[39m,\u001b[32m15\u001b[39m])\n\u001b[32m      3\u001b[39m df=dfsucio.copy()\n\u001b[32m      4\u001b[39m df=df[(df[\u001b[33m\"\u001b[39m\u001b[33mIVA\u001b[39m\u001b[33m\"\u001b[39m]!=\u001b[32m0\u001b[39m) & (df[\u001b[33m\"\u001b[39m\u001b[33mImporte\u001b[39m\u001b[33m\"\u001b[39m]!=\u001b[32m0\u001b[39m) & (df[\u001b[33m\"\u001b[39m\u001b[33mCargo\u001b[39m\u001b[33m\"\u001b[39m]!=\u001b[32m0\u001b[39m)]\n",
            "\u001b[31mNameError\u001b[39m: name 'pd' is not defined"
          ]
        }
      ],
      "source": [
        "path_archivo = r\"C:\\Users\\SALCIDOA\\Downloads\\archivo_para_probar_si_vale.xlsx\"\n",
        "dfsucio=pd.read_excel(path_archivo, skiprows=[0,1,2,3,4,5,6,7,8,9,10,11,12,13,14,15])\n",
        "df=dfsucio.copy()\n",
        "df=df[(df[\"IVA\"]!=0) & (df[\"Importe\"]!=0) & (df[\"Cargo\"]!=0)]\n",
        "df=df.reset_index()\n",
        "df=df.drop('index',axis=1)\n",
        "df=df[[\"Nombre\\nEmpleado\",\"Cargo\",\"Importe\",\"IVA\"]]\n",
        "df=df.rename(columns={'Nombre\\nEmpleado':\"Nombre Empleado\"})\n",
        "df\n"
      ]
    },
    {
      "cell_type": "markdown",
      "metadata": {
        "id": "89ebSaepFJYw"
      },
      "source": [
        "Hasta aquí ya tenemos la tabla lista y limpia para seguir con el proceso que marca el manual de ángel."
      ]
    },
    {
      "cell_type": "code",
      "execution_count": 34,
      "metadata": {
        "colab": {
          "base_uri": "https://localhost:8080/",
          "height": 424
        },
        "id": "LhcToCyiNw19",
        "outputId": "3fb1fff6-1dd2-4e35-9ce1-ab1d4df375c1"
      },
      "outputs": [
        {
          "data": {
            "text/html": [
              "<div>\n",
              "<style scoped>\n",
              "    .dataframe tbody tr th:only-of-type {\n",
              "        vertical-align: middle;\n",
              "    }\n",
              "\n",
              "    .dataframe tbody tr th {\n",
              "        vertical-align: top;\n",
              "    }\n",
              "\n",
              "    .dataframe thead th {\n",
              "        text-align: right;\n",
              "    }\n",
              "</style>\n",
              "<table border=\"1\" class=\"dataframe\">\n",
              "  <thead>\n",
              "    <tr style=\"text-align: right;\">\n",
              "      <th></th>\n",
              "      <th>Nombre Empleado</th>\n",
              "      <th>Cargo</th>\n",
              "      <th>Importe</th>\n",
              "      <th>IVA</th>\n",
              "    </tr>\n",
              "  </thead>\n",
              "  <tbody>\n",
              "    <tr>\n",
              "      <th>0</th>\n",
              "      <td>UNIDAD APODACA</td>\n",
              "      <td>14076.14</td>\n",
              "      <td>12134.5944</td>\n",
              "      <td>1941.5456</td>\n",
              "    </tr>\n",
              "    <tr>\n",
              "      <th>1</th>\n",
              "      <td>UNIDAD CUAUTITLAN</td>\n",
              "      <td>6615.67</td>\n",
              "      <td>5703.1543</td>\n",
              "      <td>912.5157</td>\n",
              "    </tr>\n",
              "    <tr>\n",
              "      <th>2</th>\n",
              "      <td>UNIDAD PUEBLA</td>\n",
              "      <td>16271.51</td>\n",
              "      <td>14027.1803</td>\n",
              "      <td>2244.3297</td>\n",
              "    </tr>\n",
              "    <tr>\n",
              "      <th>3</th>\n",
              "      <td>UNIDAD RUBIN</td>\n",
              "      <td>5407.74</td>\n",
              "      <td>4661.8248</td>\n",
              "      <td>745.9152</td>\n",
              "    </tr>\n",
              "    <tr>\n",
              "      <th>4</th>\n",
              "      <td>UNIDAD VESTA</td>\n",
              "      <td>44538.33</td>\n",
              "      <td>38395.1492</td>\n",
              "      <td>6143.1808</td>\n",
              "    </tr>\n",
              "    <tr>\n",
              "      <th>5</th>\n",
              "      <td>Total</td>\n",
              "      <td>86909.39</td>\n",
              "      <td>74921.903</td>\n",
              "      <td>11987.487</td>\n",
              "    </tr>\n",
              "  </tbody>\n",
              "</table>\n",
              "</div>"
            ],
            "text/plain": [
              "     Nombre Empleado     Cargo     Importe        IVA\n",
              "0     UNIDAD APODACA  14076.14  12134.5944  1941.5456\n",
              "1  UNIDAD CUAUTITLAN   6615.67   5703.1543   912.5157\n",
              "2      UNIDAD PUEBLA  16271.51  14027.1803  2244.3297\n",
              "3       UNIDAD RUBIN   5407.74   4661.8248   745.9152\n",
              "4       UNIDAD VESTA  44538.33  38395.1492  6143.1808\n",
              "5              Total  86909.39   74921.903  11987.487"
            ]
          },
          "execution_count": 34,
          "metadata": {},
          "output_type": "execute_result"
        }
      ],
      "source": [
        "# Proceso que imita la primera  tabla dinámica\n",
        "\n",
        "df=df.groupby(['Nombre Empleado']).sum()\n",
        "df=df.reset_index()\n",
        "#df.drop(columns=['No.Trx', 'Precio Unitario ', 'Litros'], inplace= True )\n",
        "#df=df.append({\"Nombre Empleado\":\"Total\",\"Cargo\":df.Cargo.sum(),\"IVA\":df.IVA.sum(), \"Importe\": df.Importe.sum()}, ignore_index=True)\n",
        "S=pd.Series({\"Nombre Empleado\":\"Total\", \"Importe\": df.Importe.sum(),\"Cargo\":df.Cargo.sum(),\"IVA\":df.IVA.sum()})\n",
        "df=pd.concat([df, S.to_frame().T], ignore_index=True)\n",
        "df"
      ]
    },
    {
      "cell_type": "code",
      "execution_count": 35,
      "metadata": {
        "colab": {
          "base_uri": "https://localhost:8080/",
          "height": 424
        },
        "id": "wHsu1jjfon6-",
        "outputId": "61040e4b-8cf8-4348-acde-825a8fb44378"
      },
      "outputs": [
        {
          "data": {
            "text/html": [
              "<div>\n",
              "<style scoped>\n",
              "    .dataframe tbody tr th:only-of-type {\n",
              "        vertical-align: middle;\n",
              "    }\n",
              "\n",
              "    .dataframe tbody tr th {\n",
              "        vertical-align: top;\n",
              "    }\n",
              "\n",
              "    .dataframe thead th {\n",
              "        text-align: right;\n",
              "    }\n",
              "</style>\n",
              "<table border=\"1\" class=\"dataframe\">\n",
              "  <thead>\n",
              "    <tr style=\"text-align: right;\">\n",
              "      <th></th>\n",
              "      <th>Nombre Empleado</th>\n",
              "      <th>Cargo</th>\n",
              "      <th>Importe</th>\n",
              "      <th>IVA</th>\n",
              "    </tr>\n",
              "  </thead>\n",
              "  <tbody>\n",
              "    <tr>\n",
              "      <th>0</th>\n",
              "      <td>UNIDAD APODACA</td>\n",
              "      <td>14076.14</td>\n",
              "      <td>12134.5944</td>\n",
              "      <td>1941.5456</td>\n",
              "    </tr>\n",
              "    <tr>\n",
              "      <th>1</th>\n",
              "      <td>UNIDAD CUAUTITLAN</td>\n",
              "      <td>6615.67</td>\n",
              "      <td>5703.1543</td>\n",
              "      <td>912.5157</td>\n",
              "    </tr>\n",
              "    <tr>\n",
              "      <th>2</th>\n",
              "      <td>UNIDAD PUEBLA</td>\n",
              "      <td>16271.51</td>\n",
              "      <td>14027.1803</td>\n",
              "      <td>2244.3297</td>\n",
              "    </tr>\n",
              "    <tr>\n",
              "      <th>3</th>\n",
              "      <td>UNIDAD RUBIN</td>\n",
              "      <td>5407.74</td>\n",
              "      <td>4661.8248</td>\n",
              "      <td>745.9152</td>\n",
              "    </tr>\n",
              "    <tr>\n",
              "      <th>4</th>\n",
              "      <td>UNIDAD VESTA</td>\n",
              "      <td>44538.33</td>\n",
              "      <td>38395.1492</td>\n",
              "      <td>6143.1808</td>\n",
              "    </tr>\n",
              "    <tr>\n",
              "      <th>5</th>\n",
              "      <td>Total</td>\n",
              "      <td>86909.39</td>\n",
              "      <td>74921.903</td>\n",
              "      <td>11987.487</td>\n",
              "    </tr>\n",
              "  </tbody>\n",
              "</table>\n",
              "</div>"
            ],
            "text/plain": [
              "     Nombre Empleado     Cargo     Importe        IVA\n",
              "0     UNIDAD APODACA  14076.14  12134.5944  1941.5456\n",
              "1  UNIDAD CUAUTITLAN   6615.67   5703.1543   912.5157\n",
              "2      UNIDAD PUEBLA  16271.51  14027.1803  2244.3297\n",
              "3       UNIDAD RUBIN   5407.74   4661.8248   745.9152\n",
              "4       UNIDAD VESTA  44538.33  38395.1492  6143.1808\n",
              "5              Total  86909.39   74921.903  11987.487"
            ]
          },
          "execution_count": 35,
          "metadata": {},
          "output_type": "execute_result"
        }
      ],
      "source": [
        "df1=df.copy()\n",
        "dftd1=df.copy()\n",
        "df1"
      ]
    },
    {
      "cell_type": "code",
      "execution_count": 36,
      "metadata": {
        "colab": {
          "base_uri": "https://localhost:8080/",
          "height": 424
        },
        "id": "R2cTxTJLMbVC",
        "outputId": "9475286d-409e-4559-83e9-8b12afdf9298"
      },
      "outputs": [
        {
          "data": {
            "text/html": [
              "<div>\n",
              "<style scoped>\n",
              "    .dataframe tbody tr th:only-of-type {\n",
              "        vertical-align: middle;\n",
              "    }\n",
              "\n",
              "    .dataframe tbody tr th {\n",
              "        vertical-align: top;\n",
              "    }\n",
              "\n",
              "    .dataframe thead th {\n",
              "        text-align: right;\n",
              "    }\n",
              "</style>\n",
              "<table border=\"1\" class=\"dataframe\">\n",
              "  <thead>\n",
              "    <tr style=\"text-align: right;\">\n",
              "      <th></th>\n",
              "      <th>CC</th>\n",
              "      <th>Nombre Empleado</th>\n",
              "    </tr>\n",
              "  </thead>\n",
              "  <tbody>\n",
              "    <tr>\n",
              "      <th>0</th>\n",
              "      <td>BZ07</td>\n",
              "      <td>AGUSTIN ZAMUDIO GRANADOS</td>\n",
              "    </tr>\n",
              "    <tr>\n",
              "      <th>1</th>\n",
              "      <td>D981</td>\n",
              "      <td>ANGEL ZAPATA</td>\n",
              "    </tr>\n",
              "    <tr>\n",
              "      <th>2</th>\n",
              "      <td>D941</td>\n",
              "      <td>ANGELA MARIA NIETO H</td>\n",
              "    </tr>\n",
              "    <tr>\n",
              "      <th>3</th>\n",
              "      <td>BZ02</td>\n",
              "      <td>ARACELI LOZANO MEDINA</td>\n",
              "    </tr>\n",
              "    <tr>\n",
              "      <th>4</th>\n",
              "      <td>E914</td>\n",
              "      <td>ARTURO ANAYA RODRIGUEZ</td>\n",
              "    </tr>\n",
              "    <tr>\n",
              "      <th>...</th>\n",
              "      <td>...</td>\n",
              "      <td>...</td>\n",
              "    </tr>\n",
              "    <tr>\n",
              "      <th>69</th>\n",
              "      <td>C266</td>\n",
              "      <td>SANDRA MORALES AGUILAR</td>\n",
              "    </tr>\n",
              "    <tr>\n",
              "      <th>70</th>\n",
              "      <td>BZ08</td>\n",
              "      <td>JESUS ARTURO ALVAREZ</td>\n",
              "    </tr>\n",
              "    <tr>\n",
              "      <th>71</th>\n",
              "      <td>E901</td>\n",
              "      <td>MARTIN FELIPE LOPEZ</td>\n",
              "    </tr>\n",
              "    <tr>\n",
              "      <th>72</th>\n",
              "      <td>C203</td>\n",
              "      <td>MTTO SMA</td>\n",
              "    </tr>\n",
              "    <tr>\n",
              "      <th>73</th>\n",
              "      <td>BZ15</td>\n",
              "      <td>JUAN MANUEL NABOR</td>\n",
              "    </tr>\n",
              "  </tbody>\n",
              "</table>\n",
              "<p>74 rows × 2 columns</p>\n",
              "</div>"
            ],
            "text/plain": [
              "      CC           Nombre Empleado\n",
              "0   BZ07  AGUSTIN ZAMUDIO GRANADOS\n",
              "1   D981              ANGEL ZAPATA\n",
              "2   D941      ANGELA MARIA NIETO H\n",
              "3   BZ02     ARACELI LOZANO MEDINA\n",
              "4   E914   ARTURO ANAYA RODRIGUEZ \n",
              "..   ...                       ...\n",
              "69  C266    SANDRA MORALES AGUILAR\n",
              "70  BZ08     JESUS ARTURO ALVAREZ \n",
              "71  E901       MARTIN FELIPE LOPEZ\n",
              "72  C203                 MTTO SMA \n",
              "73  BZ15        JUAN MANUEL NABOR \n",
              "\n",
              "[74 rows x 2 columns]"
            ]
          },
          "execution_count": 36,
          "metadata": {},
          "output_type": "execute_result"
        }
      ],
      "source": [
        "#df2=pd.read_excel(\"/content/drive/MyDrive/Si Vale Gasolina Empleados y cc/Base si vale gasolina.xlsx\")\n",
        "enlace = r\"https://docs.google.com/spreadsheets/d/1Iy68cztYlqI6fLjE8l4s2D32BQLzUZG9/export?format=xlsx\"\n",
        "df2=pd.read_excel(enlace)\n",
        "\n",
        "df3=df2.copy()\n",
        "df3\n"
      ]
    },
    {
      "cell_type": "code",
      "execution_count": 37,
      "metadata": {
        "colab": {
          "base_uri": "https://localhost:8080/",
          "height": 424
        },
        "id": "hS7mc77uhs6T",
        "outputId": "f4d8d28f-39a9-43e8-a5b3-992c83188574"
      },
      "outputs": [
        {
          "data": {
            "text/html": [
              "<div>\n",
              "<style scoped>\n",
              "    .dataframe tbody tr th:only-of-type {\n",
              "        vertical-align: middle;\n",
              "    }\n",
              "\n",
              "    .dataframe tbody tr th {\n",
              "        vertical-align: top;\n",
              "    }\n",
              "\n",
              "    .dataframe thead th {\n",
              "        text-align: right;\n",
              "    }\n",
              "</style>\n",
              "<table border=\"1\" class=\"dataframe\">\n",
              "  <thead>\n",
              "    <tr style=\"text-align: right;\">\n",
              "      <th></th>\n",
              "      <th>CC</th>\n",
              "      <th>Nombre Empleado</th>\n",
              "      <th>Cargo</th>\n",
              "      <th>Importe</th>\n",
              "      <th>IVA</th>\n",
              "    </tr>\n",
              "  </thead>\n",
              "  <tbody>\n",
              "    <tr>\n",
              "      <th>0</th>\n",
              "      <td>NaN</td>\n",
              "      <td>UNIDAD APODACA</td>\n",
              "      <td>14076.14</td>\n",
              "      <td>12134.5944</td>\n",
              "      <td>1941.5456</td>\n",
              "    </tr>\n",
              "    <tr>\n",
              "      <th>1</th>\n",
              "      <td>NaN</td>\n",
              "      <td>UNIDAD CUAUTITLAN</td>\n",
              "      <td>6615.67</td>\n",
              "      <td>5703.1543</td>\n",
              "      <td>912.5157</td>\n",
              "    </tr>\n",
              "    <tr>\n",
              "      <th>2</th>\n",
              "      <td>NaN</td>\n",
              "      <td>UNIDAD PUEBLA</td>\n",
              "      <td>16271.51</td>\n",
              "      <td>14027.1803</td>\n",
              "      <td>2244.3297</td>\n",
              "    </tr>\n",
              "    <tr>\n",
              "      <th>3</th>\n",
              "      <td>NaN</td>\n",
              "      <td>UNIDAD RUBIN</td>\n",
              "      <td>5407.74</td>\n",
              "      <td>4661.8248</td>\n",
              "      <td>745.9152</td>\n",
              "    </tr>\n",
              "    <tr>\n",
              "      <th>4</th>\n",
              "      <td>NaN</td>\n",
              "      <td>UNIDAD VESTA</td>\n",
              "      <td>44538.33</td>\n",
              "      <td>38395.1492</td>\n",
              "      <td>6143.1808</td>\n",
              "    </tr>\n",
              "    <tr>\n",
              "      <th>5</th>\n",
              "      <td>NaN</td>\n",
              "      <td>Total</td>\n",
              "      <td>86909.39</td>\n",
              "      <td>74921.903</td>\n",
              "      <td>11987.487</td>\n",
              "    </tr>\n",
              "  </tbody>\n",
              "</table>\n",
              "</div>"
            ],
            "text/plain": [
              "    CC    Nombre Empleado     Cargo     Importe        IVA\n",
              "0  NaN     UNIDAD APODACA  14076.14  12134.5944  1941.5456\n",
              "1  NaN  UNIDAD CUAUTITLAN   6615.67   5703.1543   912.5157\n",
              "2  NaN      UNIDAD PUEBLA  16271.51  14027.1803  2244.3297\n",
              "3  NaN       UNIDAD RUBIN   5407.74   4661.8248   745.9152\n",
              "4  NaN       UNIDAD VESTA  44538.33  38395.1492  6143.1808\n",
              "5  NaN              Total  86909.39   74921.903  11987.487"
            ]
          },
          "execution_count": 37,
          "metadata": {},
          "output_type": "execute_result"
        }
      ],
      "source": [
        "# @title Texto de título predeterminado\n",
        "df=pd.merge( df1, df3, on='Nombre Empleado', how='left')\n",
        "\n",
        "df=df.reindex([\"CC\",\"Nombre Empleado\",\"Cargo\",\"Importe\",\"IVA\"],axis=1)\n",
        "\n",
        "df\n"
      ]
    },
    {
      "cell_type": "markdown",
      "metadata": {
        "id": "dmawQGyAI8T3"
      },
      "source": [
        "# verificación"
      ]
    },
    {
      "cell_type": "code",
      "execution_count": 40,
      "metadata": {
        "colab": {
          "base_uri": "https://localhost:8080/"
        },
        "id": "cTPFEI6RNZNp",
        "outputId": "9e9cc762-1f08-407c-92f7-5964229788ef"
      },
      "outputs": [
        {
          "name": "stdout",
          "output_type": "stream",
          "text": [
            "Datos faltantesen CC :\n",
            "    CC Nombre Empleado     Cargo    Importe        IVA\n",
            "5  NaN           Total  86909.39  74921.903  11987.487\n"
          ]
        }
      ],
      "source": [
        "datos_faltantes=df[df[\"CC\"].isnull()]\n",
        "if (not datos_faltantes.empty):\n",
        "  print( \"Datos faltantesen CC :\\n\"+ str(datos_faltantes))\n",
        "else:\n",
        "  print(\"Todo ok\")\n"
      ]
    },
    {
      "cell_type": "code",
      "execution_count": 41,
      "metadata": {
        "id": "dg5fo6_gqV-O"
      },
      "outputs": [],
      "source": [
        "datos_faltantes=datos_faltantes.reset_index()\n",
        "#datos_faltantes\n",
        "\n",
        "for i in range (len(datos_faltantes)-1):\n",
        "  j=datos_faltantes[\"index\"][i]\n",
        "  cc=input(\"Introduzca el CC de \"+str(datos_faltantes[\"Nombre Empleado\"][i]))\n",
        "  centro=cc.upper()\n",
        "  df.loc[j,\"CC\"]=centro\n",
        "  S=pd.Series({\"CC\":centro,\"Nombre Empleado\":datos_faltantes[\"Nombre Empleado\"][i]})\n",
        "  df3=pd.concat([df3, S.to_frame().T], ignore_index=True)\n",
        "\n",
        "camiones= ['TRAILER 001','TRAILER 002', 'TRAILER 004', 'TRAILER 05' ]\n",
        "df3=df3[~ df3['Nombre Empleado'].isin(camiones) ]\n",
        "df3=df3.reset_index(drop=True)\n",
        "#df3.to_excel(\"/content/drive/MyDrive/Si Vale Gasolina Empleados y cc/Base si vale gasolina.xlsx\", index= False)"
      ]
    },
    {
      "cell_type": "code",
      "execution_count": null,
      "metadata": {
        "id": "sUsI2CKaDznr"
      },
      "outputs": [],
      "source": [
        "df3.to_excel(\"/content/drive/MyDrive/Si Vale Gasolina Empleados y cc/Base si vale gasolina.xlsx\", index= False)"
      ]
    },
    {
      "cell_type": "markdown",
      "metadata": {
        "id": "KR2mh81nliE2"
      },
      "source": [
        "# Segunda tabla dinámica  y poliza"
      ]
    },
    {
      "cell_type": "code",
      "execution_count": 42,
      "metadata": {
        "colab": {
          "base_uri": "https://localhost:8080/",
          "height": 424
        },
        "id": "R9N0uA6TBsKJ",
        "outputId": "faa8e636-c2a9-4dec-e56d-4132631ccc48"
      },
      "outputs": [
        {
          "data": {
            "text/html": [
              "<div>\n",
              "<style scoped>\n",
              "    .dataframe tbody tr th:only-of-type {\n",
              "        vertical-align: middle;\n",
              "    }\n",
              "\n",
              "    .dataframe tbody tr th {\n",
              "        vertical-align: top;\n",
              "    }\n",
              "\n",
              "    .dataframe thead th {\n",
              "        text-align: right;\n",
              "    }\n",
              "</style>\n",
              "<table border=\"1\" class=\"dataframe\">\n",
              "  <thead>\n",
              "    <tr style=\"text-align: right;\">\n",
              "      <th></th>\n",
              "      <th>CC</th>\n",
              "      <th>Nombre Empleado</th>\n",
              "      <th>Cargo</th>\n",
              "      <th>Importe</th>\n",
              "      <th>IVA</th>\n",
              "    </tr>\n",
              "  </thead>\n",
              "  <tbody>\n",
              "    <tr>\n",
              "      <th>0</th>\n",
              "      <td>C101</td>\n",
              "      <td>UNIDAD APODACA</td>\n",
              "      <td>14076.14</td>\n",
              "      <td>12134.5944</td>\n",
              "      <td>1941.5456</td>\n",
              "    </tr>\n",
              "    <tr>\n",
              "      <th>1</th>\n",
              "      <td>C101</td>\n",
              "      <td>UNIDAD CUAUTITLAN</td>\n",
              "      <td>6615.67</td>\n",
              "      <td>5703.1543</td>\n",
              "      <td>912.5157</td>\n",
              "    </tr>\n",
              "    <tr>\n",
              "      <th>2</th>\n",
              "      <td>C101</td>\n",
              "      <td>UNIDAD PUEBLA</td>\n",
              "      <td>16271.51</td>\n",
              "      <td>14027.1803</td>\n",
              "      <td>2244.3297</td>\n",
              "    </tr>\n",
              "    <tr>\n",
              "      <th>3</th>\n",
              "      <td>C101</td>\n",
              "      <td>UNIDAD RUBIN</td>\n",
              "      <td>5407.74</td>\n",
              "      <td>4661.8248</td>\n",
              "      <td>745.9152</td>\n",
              "    </tr>\n",
              "    <tr>\n",
              "      <th>4</th>\n",
              "      <td>C384</td>\n",
              "      <td>UNIDAD VESTA</td>\n",
              "      <td>44538.33</td>\n",
              "      <td>38395.1492</td>\n",
              "      <td>6143.1808</td>\n",
              "    </tr>\n",
              "    <tr>\n",
              "      <th>5</th>\n",
              "      <td>NaN</td>\n",
              "      <td>Total</td>\n",
              "      <td>86909.39</td>\n",
              "      <td>74921.9030</td>\n",
              "      <td>11987.4870</td>\n",
              "    </tr>\n",
              "  </tbody>\n",
              "</table>\n",
              "</div>"
            ],
            "text/plain": [
              "     CC    Nombre Empleado     Cargo     Importe         IVA\n",
              "0  C101     UNIDAD APODACA  14076.14  12134.5944   1941.5456\n",
              "1  C101  UNIDAD CUAUTITLAN   6615.67   5703.1543    912.5157\n",
              "2  C101      UNIDAD PUEBLA  16271.51  14027.1803   2244.3297\n",
              "3  C101       UNIDAD RUBIN   5407.74   4661.8248    745.9152\n",
              "4  C384       UNIDAD VESTA  44538.33  38395.1492   6143.1808\n",
              "5   NaN              Total  86909.39  74921.9030  11987.4870"
            ]
          },
          "execution_count": 42,
          "metadata": {},
          "output_type": "execute_result"
        }
      ],
      "source": [
        "df[[\"Cargo\",\"Importe\",\"IVA\"]]=df[[\"Cargo\",\"Importe\",\"IVA\"]].astype(\"float64\")\n",
        "#df=df.round(0)\n",
        "df"
      ]
    },
    {
      "cell_type": "code",
      "execution_count": 43,
      "metadata": {
        "id": "q17XaKfaBsKK"
      },
      "outputs": [],
      "source": [
        "df4=df.copy()\n",
        "df4[\"CC\"]=df4[\"CC\"].str.upper()\n",
        "df4=df4.groupby(\"CC\").sum()"
      ]
    },
    {
      "cell_type": "code",
      "execution_count": 44,
      "metadata": {
        "colab": {
          "base_uri": "https://localhost:8080/",
          "height": 1000
        },
        "id": "dFz4MGGzBsKK",
        "outputId": "f20c2745-bb84-489e-c147-dde03263755e"
      },
      "outputs": [
        {
          "data": {
            "text/html": [
              "<div>\n",
              "<style scoped>\n",
              "    .dataframe tbody tr th:only-of-type {\n",
              "        vertical-align: middle;\n",
              "    }\n",
              "\n",
              "    .dataframe tbody tr th {\n",
              "        vertical-align: top;\n",
              "    }\n",
              "\n",
              "    .dataframe thead th {\n",
              "        text-align: right;\n",
              "    }\n",
              "</style>\n",
              "<table border=\"1\" class=\"dataframe\">\n",
              "  <thead>\n",
              "    <tr style=\"text-align: right;\">\n",
              "      <th></th>\n",
              "      <th>Nombre Empleado</th>\n",
              "      <th>Cargo</th>\n",
              "      <th>Importe</th>\n",
              "      <th>IVA</th>\n",
              "    </tr>\n",
              "    <tr>\n",
              "      <th>CC</th>\n",
              "      <th></th>\n",
              "      <th></th>\n",
              "      <th></th>\n",
              "      <th></th>\n",
              "    </tr>\n",
              "  </thead>\n",
              "  <tbody>\n",
              "    <tr>\n",
              "      <th>C101</th>\n",
              "      <td>UNIDAD APODACAUNIDAD CUAUTITLANUNIDAD PUEBLAUN...</td>\n",
              "      <td>42371.06</td>\n",
              "      <td>36526.7538</td>\n",
              "      <td>5844.3062</td>\n",
              "    </tr>\n",
              "    <tr>\n",
              "      <th>C384</th>\n",
              "      <td>UNIDAD VESTA</td>\n",
              "      <td>44538.33</td>\n",
              "      <td>38395.1492</td>\n",
              "      <td>6143.1808</td>\n",
              "    </tr>\n",
              "  </tbody>\n",
              "</table>\n",
              "</div>"
            ],
            "text/plain": [
              "                                        Nombre Empleado     Cargo     Importe  \\\n",
              "CC                                                                              \n",
              "C101  UNIDAD APODACAUNIDAD CUAUTITLANUNIDAD PUEBLAUN...  42371.06  36526.7538   \n",
              "C384                                       UNIDAD VESTA  44538.33  38395.1492   \n",
              "\n",
              "            IVA  \n",
              "CC               \n",
              "C101  5844.3062  \n",
              "C384  6143.1808  "
            ]
          },
          "execution_count": 44,
          "metadata": {},
          "output_type": "execute_result"
        }
      ],
      "source": [
        "df4\n"
      ]
    },
    {
      "cell_type": "code",
      "execution_count": 45,
      "metadata": {
        "colab": {
          "base_uri": "https://localhost:8080/",
          "height": 1000
        },
        "id": "34HdgvxXBsKL",
        "outputId": "7dbd0f26-bdbe-4677-af20-51c0cad3b014"
      },
      "outputs": [
        {
          "data": {
            "text/html": [
              "<div>\n",
              "<style scoped>\n",
              "    .dataframe tbody tr th:only-of-type {\n",
              "        vertical-align: middle;\n",
              "    }\n",
              "\n",
              "    .dataframe tbody tr th {\n",
              "        vertical-align: top;\n",
              "    }\n",
              "\n",
              "    .dataframe thead th {\n",
              "        text-align: right;\n",
              "    }\n",
              "</style>\n",
              "<table border=\"1\" class=\"dataframe\">\n",
              "  <thead>\n",
              "    <tr style=\"text-align: right;\">\n",
              "      <th></th>\n",
              "      <th>CC</th>\n",
              "      <th>Cargo</th>\n",
              "      <th>Importe</th>\n",
              "      <th>IVA</th>\n",
              "    </tr>\n",
              "  </thead>\n",
              "  <tbody>\n",
              "    <tr>\n",
              "      <th>0</th>\n",
              "      <td>C101</td>\n",
              "      <td>42371.0</td>\n",
              "      <td>36527.0</td>\n",
              "      <td>5844.0</td>\n",
              "    </tr>\n",
              "    <tr>\n",
              "      <th>1</th>\n",
              "      <td>C384</td>\n",
              "      <td>44538.0</td>\n",
              "      <td>38395.0</td>\n",
              "      <td>6143.0</td>\n",
              "    </tr>\n",
              "    <tr>\n",
              "      <th>2</th>\n",
              "      <td>Total</td>\n",
              "      <td>86909.0</td>\n",
              "      <td>74922.0</td>\n",
              "      <td>11987.0</td>\n",
              "    </tr>\n",
              "  </tbody>\n",
              "</table>\n",
              "</div>"
            ],
            "text/plain": [
              "      CC    Cargo  Importe      IVA\n",
              "0   C101  42371.0  36527.0   5844.0\n",
              "1   C384  44538.0  38395.0   6143.0\n",
              "2  Total  86909.0  74922.0  11987.0"
            ]
          },
          "execution_count": 45,
          "metadata": {},
          "output_type": "execute_result"
        }
      ],
      "source": [
        "df4=df4.reset_index()\n",
        "#df4=df4.append({\"CC\":\"Total\",\"Cargo\":df4.Cargo.sum(),\"Importe\": df4.Importe.sum(),\"IVA\":df4.IVA.sum()}, ignore_index=True)\n",
        "S=pd.Series({\"CC\":\"Total\",\"Cargo\":df4.Cargo.sum(),\"Importe\": df4.Importe.sum(),\"IVA\":df4.IVA.sum()})\n",
        "df4=pd.concat([df4, S.to_frame().T], ignore_index=True)\n",
        "df4[\"Cargo\"]=df4.Cargo.astype('float')\n",
        "df4[\"IVA\"]=df4.IVA.astype('float')\n",
        "df4[\"Importe\"]=df4.Importe.astype('float')\n",
        "df4= df4.round(0)\n",
        "df4=df4.drop(['Nombre Empleado'],axis=1)\n",
        "df4"
      ]
    },
    {
      "cell_type": "code",
      "execution_count": 46,
      "metadata": {
        "colab": {
          "base_uri": "https://localhost:8080/",
          "height": 1000
        },
        "id": "cLG1GpXIWlKZ",
        "outputId": "0aa49627-4f9d-4272-f74b-42caa2cd1b81"
      },
      "outputs": [
        {
          "data": {
            "text/html": [
              "<div>\n",
              "<style scoped>\n",
              "    .dataframe tbody tr th:only-of-type {\n",
              "        vertical-align: middle;\n",
              "    }\n",
              "\n",
              "    .dataframe tbody tr th {\n",
              "        vertical-align: top;\n",
              "    }\n",
              "\n",
              "    .dataframe thead th {\n",
              "        text-align: right;\n",
              "    }\n",
              "</style>\n",
              "<table border=\"1\" class=\"dataframe\">\n",
              "  <thead>\n",
              "    <tr style=\"text-align: right;\">\n",
              "      <th></th>\n",
              "      <th>CC</th>\n",
              "      <th>Cargo</th>\n",
              "      <th>Importe</th>\n",
              "      <th>IVA</th>\n",
              "    </tr>\n",
              "  </thead>\n",
              "  <tbody>\n",
              "    <tr>\n",
              "      <th>0</th>\n",
              "      <td>C101</td>\n",
              "      <td>42371.0</td>\n",
              "      <td>36527.0</td>\n",
              "      <td>5844.0</td>\n",
              "    </tr>\n",
              "    <tr>\n",
              "      <th>1</th>\n",
              "      <td>C384</td>\n",
              "      <td>44538.0</td>\n",
              "      <td>38395.0</td>\n",
              "      <td>6143.0</td>\n",
              "    </tr>\n",
              "    <tr>\n",
              "      <th>2</th>\n",
              "      <td>Total</td>\n",
              "      <td>86909.0</td>\n",
              "      <td>74922.0</td>\n",
              "      <td>11987.0</td>\n",
              "    </tr>\n",
              "  </tbody>\n",
              "</table>\n",
              "</div>"
            ],
            "text/plain": [
              "      CC    Cargo  Importe      IVA\n",
              "0   C101  42371.0  36527.0   5844.0\n",
              "1   C384  44538.0  38395.0   6143.0\n",
              "2  Total  86909.0  74922.0  11987.0"
            ]
          },
          "execution_count": 46,
          "metadata": {},
          "output_type": "execute_result"
        }
      ],
      "source": [
        "df4"
      ]
    },
    {
      "cell_type": "code",
      "execution_count": 47,
      "metadata": {
        "id": "MDoV04Kz8a0f"
      },
      "outputs": [],
      "source": [
        "# Empecemos a definr las ctas contables que usaremos de acuerdo al catalogo de cuentas\n",
        "\n",
        "CF='64911801CF01'  # Centro de costos A,B,C Y D941  a D950\n",
        "\n",
        "GA='64911801GA01'  # Centro de costos E\n",
        "\n",
        "GV='64911801GV01'  # Centro de costo D981\n",
        "\n",
        "IVA_por_acreditable= '140104010002'  # Sin centro de costo\n",
        "\n",
        "\n",
        "\n",
        "Prov_consumo_Sivale= '240112900007' # Para el Centro de costo E913\n",
        "\n",
        "\n"
      ]
    },
    {
      "cell_type": "code",
      "execution_count": 48,
      "metadata": {
        "colab": {
          "base_uri": "https://localhost:8080/",
          "height": 1000
        },
        "id": "iOBCV2xO93Cm",
        "outputId": "64032cc3-bc67-4769-af91-266db9721d90"
      },
      "outputs": [
        {
          "data": {
            "text/html": [
              "<div>\n",
              "<style scoped>\n",
              "    .dataframe tbody tr th:only-of-type {\n",
              "        vertical-align: middle;\n",
              "    }\n",
              "\n",
              "    .dataframe tbody tr th {\n",
              "        vertical-align: top;\n",
              "    }\n",
              "\n",
              "    .dataframe thead th {\n",
              "        text-align: right;\n",
              "    }\n",
              "</style>\n",
              "<table border=\"1\" class=\"dataframe\">\n",
              "  <thead>\n",
              "    <tr style=\"text-align: right;\">\n",
              "      <th></th>\n",
              "      <th>CC</th>\n",
              "      <th>UTILITARIO</th>\n",
              "    </tr>\n",
              "  </thead>\n",
              "  <tbody>\n",
              "    <tr>\n",
              "      <th>0</th>\n",
              "      <td>BI77</td>\n",
              "      <td>IN3301</td>\n",
              "    </tr>\n",
              "    <tr>\n",
              "      <th>1</th>\n",
              "      <td>BV05</td>\n",
              "      <td>IN1305</td>\n",
              "    </tr>\n",
              "    <tr>\n",
              "      <th>2</th>\n",
              "      <td>BZ01</td>\n",
              "      <td>IN3101</td>\n",
              "    </tr>\n",
              "    <tr>\n",
              "      <th>3</th>\n",
              "      <td>BZ02</td>\n",
              "      <td>IN3101</td>\n",
              "    </tr>\n",
              "    <tr>\n",
              "      <th>4</th>\n",
              "      <td>BZ04</td>\n",
              "      <td>IN3101</td>\n",
              "    </tr>\n",
              "    <tr>\n",
              "      <th>5</th>\n",
              "      <td>BZ05</td>\n",
              "      <td>IN3101</td>\n",
              "    </tr>\n",
              "    <tr>\n",
              "      <th>6</th>\n",
              "      <td>BZ07</td>\n",
              "      <td>IN3101</td>\n",
              "    </tr>\n",
              "    <tr>\n",
              "      <th>7</th>\n",
              "      <td>BZ08</td>\n",
              "      <td>IN3101</td>\n",
              "    </tr>\n",
              "    <tr>\n",
              "      <th>8</th>\n",
              "      <td>BZ09</td>\n",
              "      <td>IN3101</td>\n",
              "    </tr>\n",
              "    <tr>\n",
              "      <th>9</th>\n",
              "      <td>BZ11</td>\n",
              "      <td>IN3101</td>\n",
              "    </tr>\n",
              "    <tr>\n",
              "      <th>10</th>\n",
              "      <td>BZ13</td>\n",
              "      <td>IN3101</td>\n",
              "    </tr>\n",
              "    <tr>\n",
              "      <th>11</th>\n",
              "      <td>BZ14</td>\n",
              "      <td>IN3101</td>\n",
              "    </tr>\n",
              "    <tr>\n",
              "      <th>12</th>\n",
              "      <td>BZ15</td>\n",
              "      <td>IN3101</td>\n",
              "    </tr>\n",
              "    <tr>\n",
              "      <th>13</th>\n",
              "      <td>C002</td>\n",
              "      <td>IN1101</td>\n",
              "    </tr>\n",
              "    <tr>\n",
              "      <th>14</th>\n",
              "      <td>C101</td>\n",
              "      <td>IN5101</td>\n",
              "    </tr>\n",
              "    <tr>\n",
              "      <th>15</th>\n",
              "      <td>C102</td>\n",
              "      <td>IN1101</td>\n",
              "    </tr>\n",
              "    <tr>\n",
              "      <th>16</th>\n",
              "      <td>C203</td>\n",
              "      <td>IN1101</td>\n",
              "    </tr>\n",
              "    <tr>\n",
              "      <th>17</th>\n",
              "      <td>C267</td>\n",
              "      <td>IN3301</td>\n",
              "    </tr>\n",
              "    <tr>\n",
              "      <th>18</th>\n",
              "      <td>C555</td>\n",
              "      <td>IN3301</td>\n",
              "    </tr>\n",
              "    <tr>\n",
              "      <th>19</th>\n",
              "      <td>C556</td>\n",
              "      <td>IN3301</td>\n",
              "    </tr>\n",
              "    <tr>\n",
              "      <th>20</th>\n",
              "      <td>D941</td>\n",
              "      <td>IN1101</td>\n",
              "    </tr>\n",
              "    <tr>\n",
              "      <th>21</th>\n",
              "      <td>D942</td>\n",
              "      <td>IN1101</td>\n",
              "    </tr>\n",
              "    <tr>\n",
              "      <th>22</th>\n",
              "      <td>D943</td>\n",
              "      <td>IN5101</td>\n",
              "    </tr>\n",
              "    <tr>\n",
              "      <th>23</th>\n",
              "      <td>D947</td>\n",
              "      <td>IN2101</td>\n",
              "    </tr>\n",
              "    <tr>\n",
              "      <th>24</th>\n",
              "      <td>D948</td>\n",
              "      <td>IN1101</td>\n",
              "    </tr>\n",
              "    <tr>\n",
              "      <th>25</th>\n",
              "      <td>D981</td>\n",
              "      <td>IN1101</td>\n",
              "    </tr>\n",
              "    <tr>\n",
              "      <th>26</th>\n",
              "      <td>E901</td>\n",
              "      <td>IN5101</td>\n",
              "    </tr>\n",
              "    <tr>\n",
              "      <th>27</th>\n",
              "      <td>E902</td>\n",
              "      <td>IN5101</td>\n",
              "    </tr>\n",
              "    <tr>\n",
              "      <th>28</th>\n",
              "      <td>E903</td>\n",
              "      <td>IN5101</td>\n",
              "    </tr>\n",
              "    <tr>\n",
              "      <th>29</th>\n",
              "      <td>E904</td>\n",
              "      <td>IN5101</td>\n",
              "    </tr>\n",
              "    <tr>\n",
              "      <th>30</th>\n",
              "      <td>E908</td>\n",
              "      <td>IN5101</td>\n",
              "    </tr>\n",
              "    <tr>\n",
              "      <th>31</th>\n",
              "      <td>E910</td>\n",
              "      <td>IN5101</td>\n",
              "    </tr>\n",
              "    <tr>\n",
              "      <th>32</th>\n",
              "      <td>E911</td>\n",
              "      <td>IN5101</td>\n",
              "    </tr>\n",
              "    <tr>\n",
              "      <th>33</th>\n",
              "      <td>E912</td>\n",
              "      <td>IN5101</td>\n",
              "    </tr>\n",
              "    <tr>\n",
              "      <th>34</th>\n",
              "      <td>E913</td>\n",
              "      <td>IN5101</td>\n",
              "    </tr>\n",
              "    <tr>\n",
              "      <th>35</th>\n",
              "      <td>E913</td>\n",
              "      <td>IN5101</td>\n",
              "    </tr>\n",
              "    <tr>\n",
              "      <th>36</th>\n",
              "      <td>E914</td>\n",
              "      <td>IN5101</td>\n",
              "    </tr>\n",
              "    <tr>\n",
              "      <th>37</th>\n",
              "      <td>E935</td>\n",
              "      <td>IN5101</td>\n",
              "    </tr>\n",
              "    <tr>\n",
              "      <th>38</th>\n",
              "      <td>A00P</td>\n",
              "      <td>IN1101</td>\n",
              "    </tr>\n",
              "    <tr>\n",
              "      <th>39</th>\n",
              "      <td>A01K</td>\n",
              "      <td>IN1101</td>\n",
              "    </tr>\n",
              "    <tr>\n",
              "      <th>40</th>\n",
              "      <td>C266</td>\n",
              "      <td>IN3301</td>\n",
              "    </tr>\n",
              "    <tr>\n",
              "      <th>41</th>\n",
              "      <td>E937</td>\n",
              "      <td>IN5101</td>\n",
              "    </tr>\n",
              "  </tbody>\n",
              "</table>\n",
              "</div>"
            ],
            "text/plain": [
              "      CC UTILITARIO\n",
              "0   BI77     IN3301\n",
              "1   BV05     IN1305\n",
              "2   BZ01     IN3101\n",
              "3   BZ02     IN3101\n",
              "4   BZ04     IN3101\n",
              "5   BZ05     IN3101\n",
              "6   BZ07     IN3101\n",
              "7   BZ08     IN3101\n",
              "8   BZ09     IN3101\n",
              "9   BZ11     IN3101\n",
              "10  BZ13     IN3101\n",
              "11  BZ14     IN3101\n",
              "12  BZ15     IN3101\n",
              "13  C002     IN1101\n",
              "14  C101     IN5101\n",
              "15  C102     IN1101\n",
              "16  C203     IN1101\n",
              "17  C267     IN3301\n",
              "18  C555     IN3301\n",
              "19  C556     IN3301\n",
              "20  D941     IN1101\n",
              "21  D942     IN1101\n",
              "22  D943     IN5101\n",
              "23  D947     IN2101\n",
              "24  D948     IN1101\n",
              "25  D981     IN1101\n",
              "26  E901     IN5101\n",
              "27  E902     IN5101\n",
              "28  E903     IN5101\n",
              "29  E904     IN5101\n",
              "30  E908     IN5101\n",
              "31  E910     IN5101\n",
              "32  E911     IN5101\n",
              "33  E912     IN5101\n",
              "34  E913     IN5101\n",
              "35  E913     IN5101\n",
              "36  E914     IN5101\n",
              "37  E935     IN5101\n",
              "38  A00P     IN1101\n",
              "39  A01K     IN1101\n",
              "40  C266     IN3301\n",
              "41  E937     IN5101"
            ]
          },
          "execution_count": 48,
          "metadata": {},
          "output_type": "execute_result"
        }
      ],
      "source": [
        "# Definimos nuestros CC con su Centro utilitario\n",
        "enlace = r\"https://docs.google.com/spreadsheets/d/1gnfLiD1arrr5G7seQi85-f3Cd5n7_miS/export?format=xlsx\"\n",
        "#utilitario= pd.read_excel('/content/drive/MyDrive/Si Vale Gasolina Empleados y cc/CC y utilitario.xlsx')\n",
        "utilitario= pd.read_excel(enlace)\n",
        "utilitario"
      ]
    },
    {
      "cell_type": "markdown",
      "metadata": {
        "id": "PVnV5tYP9iBp"
      },
      "source": [
        "Ahora, crearemos un df con las columnas:\n",
        "\n",
        "Plantilla, cons,compañia,cta, CC , Centro Utilitario ,debe/haber, importe, ref"
      ]
    },
    {
      "cell_type": "code",
      "execution_count": 49,
      "metadata": {
        "colab": {
          "base_uri": "https://localhost:8080/",
          "height": 1000
        },
        "id": "zzEb58wW9hgB",
        "outputId": "5c20d205-96ac-4734-c9f8-71dc1cd616c3"
      },
      "outputs": [
        {
          "data": {
            "text/html": [
              "<div>\n",
              "<style scoped>\n",
              "    .dataframe tbody tr th:only-of-type {\n",
              "        vertical-align: middle;\n",
              "    }\n",
              "\n",
              "    .dataframe tbody tr th {\n",
              "        vertical-align: top;\n",
              "    }\n",
              "\n",
              "    .dataframe thead th {\n",
              "        text-align: right;\n",
              "    }\n",
              "</style>\n",
              "<table border=\"1\" class=\"dataframe\">\n",
              "  <thead>\n",
              "    <tr style=\"text-align: right;\">\n",
              "      <th></th>\n",
              "      <th>CC</th>\n",
              "      <th>Cargo</th>\n",
              "      <th>Importe</th>\n",
              "      <th>IVA</th>\n",
              "    </tr>\n",
              "  </thead>\n",
              "  <tbody>\n",
              "    <tr>\n",
              "      <th>0</th>\n",
              "      <td>C101</td>\n",
              "      <td>42371.0</td>\n",
              "      <td>36527.0</td>\n",
              "      <td>5844.0</td>\n",
              "    </tr>\n",
              "    <tr>\n",
              "      <th>1</th>\n",
              "      <td>C384</td>\n",
              "      <td>44538.0</td>\n",
              "      <td>38395.0</td>\n",
              "      <td>6143.0</td>\n",
              "    </tr>\n",
              "    <tr>\n",
              "      <th>2</th>\n",
              "      <td>Total</td>\n",
              "      <td>86909.0</td>\n",
              "      <td>74922.0</td>\n",
              "      <td>11987.0</td>\n",
              "    </tr>\n",
              "  </tbody>\n",
              "</table>\n",
              "</div>"
            ],
            "text/plain": [
              "      CC    Cargo  Importe      IVA\n",
              "0   C101  42371.0  36527.0   5844.0\n",
              "1   C384  44538.0  38395.0   6143.0\n",
              "2  Total  86909.0  74922.0  11987.0"
            ]
          },
          "execution_count": 49,
          "metadata": {},
          "output_type": "execute_result"
        }
      ],
      "source": [
        "df_parapoliza= df4.copy()\n",
        "df_parapoliza['CC']=df_parapoliza['CC'].str.strip()\n",
        "df_parapoliza"
      ]
    },
    {
      "cell_type": "code",
      "execution_count": 50,
      "metadata": {
        "colab": {
          "base_uri": "https://localhost:8080/",
          "height": 1000
        },
        "id": "mflxhxVeBE-t",
        "outputId": "e8e5a00b-acee-4cf2-e13b-9f1ede26e066"
      },
      "outputs": [
        {
          "data": {
            "text/html": [
              "<div>\n",
              "<style scoped>\n",
              "    .dataframe tbody tr th:only-of-type {\n",
              "        vertical-align: middle;\n",
              "    }\n",
              "\n",
              "    .dataframe tbody tr th {\n",
              "        vertical-align: top;\n",
              "    }\n",
              "\n",
              "    .dataframe thead th {\n",
              "        text-align: right;\n",
              "    }\n",
              "</style>\n",
              "<table border=\"1\" class=\"dataframe\">\n",
              "  <thead>\n",
              "    <tr style=\"text-align: right;\">\n",
              "      <th></th>\n",
              "      <th>CC</th>\n",
              "      <th>Cargo</th>\n",
              "      <th>Importe</th>\n",
              "      <th>IVA</th>\n",
              "      <th>UTILITARIO</th>\n",
              "    </tr>\n",
              "  </thead>\n",
              "  <tbody>\n",
              "    <tr>\n",
              "      <th>0</th>\n",
              "      <td>C101</td>\n",
              "      <td>42371.0</td>\n",
              "      <td>36527.0</td>\n",
              "      <td>5844.0</td>\n",
              "      <td>IN5101</td>\n",
              "    </tr>\n",
              "    <tr>\n",
              "      <th>1</th>\n",
              "      <td>C384</td>\n",
              "      <td>44538.0</td>\n",
              "      <td>38395.0</td>\n",
              "      <td>6143.0</td>\n",
              "      <td>NaN</td>\n",
              "    </tr>\n",
              "    <tr>\n",
              "      <th>2</th>\n",
              "      <td>E913</td>\n",
              "      <td>86909.0</td>\n",
              "      <td>74922.0</td>\n",
              "      <td>11987.0</td>\n",
              "      <td>NaN</td>\n",
              "    </tr>\n",
              "  </tbody>\n",
              "</table>\n",
              "</div>"
            ],
            "text/plain": [
              "     CC    Cargo  Importe      IVA UTILITARIO\n",
              "0  C101  42371.0  36527.0   5844.0     IN5101\n",
              "1  C384  44538.0  38395.0   6143.0        NaN\n",
              "2  E913  86909.0  74922.0  11987.0        NaN"
            ]
          },
          "execution_count": 50,
          "metadata": {},
          "output_type": "execute_result"
        }
      ],
      "source": [
        "df_parapoliza=pd.merge(df_parapoliza,utilitario, on=[\"CC\"], how=\"left\")\n",
        "\n",
        "df_parapoliza['CC']=df_parapoliza['CC'].replace(\"Total\", \"E913\")\n",
        "\n",
        "df_parapoliza"
      ]
    },
    {
      "cell_type": "markdown",
      "metadata": {
        "id": "48PvJ7HclQoR"
      },
      "source": [
        "# Verificamos centro utilitarios"
      ]
    },
    {
      "cell_type": "code",
      "execution_count": 51,
      "metadata": {
        "colab": {
          "base_uri": "https://localhost:8080/"
        },
        "id": "UWxOjQCLlMhP",
        "outputId": "ee76e1bd-05cd-4450-8c02-7b1fee2ac28f"
      },
      "outputs": [
        {
          "name": "stdout",
          "output_type": "stream",
          "text": [
            "Datos faltantesen CC :\n",
            "     CC    Cargo  Importe      IVA UTILITARIO\n",
            "1  C384  44538.0  38395.0   6143.0        NaN\n",
            "2  E913  86909.0  74922.0  11987.0        NaN\n"
          ]
        }
      ],
      "source": [
        "datos_faltantes=df_parapoliza[df_parapoliza[\"UTILITARIO\"].isnull()]\n",
        "if (not datos_faltantes.empty):\n",
        "  print( \"Datos faltantesen CC :\\n\"+ str(datos_faltantes))\n",
        "else:\n",
        "  print(\"Todo ok\")\n"
      ]
    },
    {
      "cell_type": "code",
      "execution_count": 52,
      "metadata": {
        "colab": {
          "base_uri": "https://localhost:8080/"
        },
        "id": "ixkTjvMjlVB3",
        "outputId": "60996e6f-c96b-4968-ea69-6e08cbe57ac5"
      },
      "outputs": [],
      "source": [
        "datos_faltantes=datos_faltantes.reset_index()\n",
        "#datos_faltantes\n",
        "\n",
        "for i in range (len(datos_faltantes)-1):\n",
        "\n",
        "  if datos_faltantes[\"CC\"][i]!=\"E913\":\n",
        "\n",
        "    j=datos_faltantes[\"index\"][i]\n",
        "\n",
        "    uti=input(\"Introduzca el centro utilitario de \"+str(datos_faltantes[\"CC\"][i]))\n",
        "\n",
        "    uti=uti.upper()\n",
        "\n",
        "    df_parapoliza.loc[j,\"UTILITARIO\"]=uti\n",
        "\n",
        "    S=pd.Series({\"CC\":datos_faltantes[\"CC\"][i],\"UTILITARIO\": uti })\n",
        "\n",
        "    utilitario=pd.concat([utilitario, S.to_frame().T], ignore_index=True)\n",
        "\n"
      ]
    },
    {
      "cell_type": "code",
      "execution_count": null,
      "metadata": {
        "id": "c3U5NkECFSAI"
      },
      "outputs": [],
      "source": [
        "utilitario.to_excel(\"/content/drive/MyDrive/Si Vale Gasolina Empleados y cc/CC y utilitario.xlsx\", index= False)"
      ]
    },
    {
      "cell_type": "markdown",
      "metadata": {
        "id": "1kVjOfafn3oh"
      },
      "source": [
        "# Archivo final :3"
      ]
    },
    {
      "cell_type": "code",
      "execution_count": 61,
      "metadata": {
        "colab": {
          "base_uri": "https://localhost:8080/",
          "height": 1000
        },
        "id": "YAZ_1w9wCuDq",
        "outputId": "471dff33-b03f-4750-ea9b-42bea2316ac6"
      },
      "outputs": [
        {
          "data": {
            "text/html": [
              "<div>\n",
              "<style scoped>\n",
              "    .dataframe tbody tr th:only-of-type {\n",
              "        vertical-align: middle;\n",
              "    }\n",
              "\n",
              "    .dataframe tbody tr th {\n",
              "        vertical-align: top;\n",
              "    }\n",
              "\n",
              "    .dataframe thead th {\n",
              "        text-align: right;\n",
              "    }\n",
              "</style>\n",
              "<table border=\"1\" class=\"dataframe\">\n",
              "  <thead>\n",
              "    <tr style=\"text-align: right;\">\n",
              "      <th></th>\n",
              "      <th>CC</th>\n",
              "      <th>UTILITARIO</th>\n",
              "      <th>Importe</th>\n",
              "      <th>IVA</th>\n",
              "      <th>Cargo</th>\n",
              "    </tr>\n",
              "  </thead>\n",
              "  <tbody>\n",
              "    <tr>\n",
              "      <th>0</th>\n",
              "      <td>C101</td>\n",
              "      <td>IN5101</td>\n",
              "      <td>36527.0</td>\n",
              "      <td>5844.0</td>\n",
              "      <td>42371.0</td>\n",
              "    </tr>\n",
              "    <tr>\n",
              "      <th>1</th>\n",
              "      <td>C384</td>\n",
              "      <td>IN5101</td>\n",
              "      <td>38395.0</td>\n",
              "      <td>6143.0</td>\n",
              "      <td>44538.0</td>\n",
              "    </tr>\n",
              "    <tr>\n",
              "      <th>2</th>\n",
              "      <td>E913</td>\n",
              "      <td>NaN</td>\n",
              "      <td>86909.0</td>\n",
              "      <td>11987.0</td>\n",
              "      <td>86909.0</td>\n",
              "    </tr>\n",
              "    <tr>\n",
              "      <th>3</th>\n",
              "      <td></td>\n",
              "      <td>NaN</td>\n",
              "      <td>NaN</td>\n",
              "      <td>NaN</td>\n",
              "      <td>NaN</td>\n",
              "    </tr>\n",
              "    <tr>\n",
              "      <th>4</th>\n",
              "      <td></td>\n",
              "      <td>NaN</td>\n",
              "      <td>NaN</td>\n",
              "      <td>NaN</td>\n",
              "      <td>NaN</td>\n",
              "    </tr>\n",
              "    <tr>\n",
              "      <th>5</th>\n",
              "      <td></td>\n",
              "      <td>NaN</td>\n",
              "      <td>NaN</td>\n",
              "      <td>NaN</td>\n",
              "      <td>NaN</td>\n",
              "    </tr>\n",
              "  </tbody>\n",
              "</table>\n",
              "</div>"
            ],
            "text/plain": [
              "     CC UTILITARIO  Importe      IVA    Cargo\n",
              "0  C101     IN5101  36527.0   5844.0  42371.0\n",
              "1  C384     IN5101  38395.0   6143.0  44538.0\n",
              "2  E913        NaN  86909.0  11987.0  86909.0\n",
              "3              NaN      NaN      NaN      NaN\n",
              "4              NaN      NaN      NaN      NaN\n",
              "5              NaN      NaN      NaN      NaN"
            ]
          },
          "execution_count": 61,
          "metadata": {},
          "output_type": "execute_result"
        }
      ],
      "source": [
        "df_parapoliza=df_parapoliza[['CC','UTILITARIO' ,'Importe', 'IVA', 'Cargo']]\n",
        "df_parapoliza"
      ]
    },
    {
      "cell_type": "code",
      "execution_count": 62,
      "metadata": {
        "colab": {
          "base_uri": "https://localhost:8080/",
          "height": 1000
        },
        "id": "vLRoCqjpocPa",
        "outputId": "f7237854-5c01-4f01-d524-436f949da1a7"
      },
      "outputs": [
        {
          "data": {
            "text/html": [
              "<div>\n",
              "<style scoped>\n",
              "    .dataframe tbody tr th:only-of-type {\n",
              "        vertical-align: middle;\n",
              "    }\n",
              "\n",
              "    .dataframe tbody tr th {\n",
              "        vertical-align: top;\n",
              "    }\n",
              "\n",
              "    .dataframe thead th {\n",
              "        text-align: right;\n",
              "    }\n",
              "</style>\n",
              "<table border=\"1\" class=\"dataframe\">\n",
              "  <thead>\n",
              "    <tr style=\"text-align: right;\">\n",
              "      <th></th>\n",
              "      <th>CC</th>\n",
              "      <th>UTILITARIO</th>\n",
              "      <th>Importe</th>\n",
              "      <th>IVA</th>\n",
              "      <th>Cargo</th>\n",
              "    </tr>\n",
              "  </thead>\n",
              "  <tbody>\n",
              "    <tr>\n",
              "      <th>0</th>\n",
              "      <td>C101</td>\n",
              "      <td>IN5101</td>\n",
              "      <td>36527.0</td>\n",
              "      <td>5844.0</td>\n",
              "      <td>42371.0</td>\n",
              "    </tr>\n",
              "    <tr>\n",
              "      <th>1</th>\n",
              "      <td>C384</td>\n",
              "      <td>IN5101</td>\n",
              "      <td>38395.0</td>\n",
              "      <td>6143.0</td>\n",
              "      <td>44538.0</td>\n",
              "    </tr>\n",
              "    <tr>\n",
              "      <th>2</th>\n",
              "      <td>E913</td>\n",
              "      <td>NaN</td>\n",
              "      <td>86909.0</td>\n",
              "      <td>11987.0</td>\n",
              "      <td>86909.0</td>\n",
              "    </tr>\n",
              "    <tr>\n",
              "      <th>3</th>\n",
              "      <td></td>\n",
              "      <td>NaN</td>\n",
              "      <td>NaN</td>\n",
              "      <td>NaN</td>\n",
              "      <td>NaN</td>\n",
              "    </tr>\n",
              "    <tr>\n",
              "      <th>4</th>\n",
              "      <td></td>\n",
              "      <td>NaN</td>\n",
              "      <td>NaN</td>\n",
              "      <td>NaN</td>\n",
              "      <td>NaN</td>\n",
              "    </tr>\n",
              "    <tr>\n",
              "      <th>5</th>\n",
              "      <td></td>\n",
              "      <td>NaN</td>\n",
              "      <td>NaN</td>\n",
              "      <td>NaN</td>\n",
              "      <td>NaN</td>\n",
              "    </tr>\n",
              "    <tr>\n",
              "      <th>6</th>\n",
              "      <td></td>\n",
              "      <td>NaN</td>\n",
              "      <td>NaN</td>\n",
              "      <td>NaN</td>\n",
              "      <td>NaN</td>\n",
              "    </tr>\n",
              "  </tbody>\n",
              "</table>\n",
              "</div>"
            ],
            "text/plain": [
              "     CC UTILITARIO  Importe      IVA    Cargo\n",
              "0  C101     IN5101  36527.0   5844.0  42371.0\n",
              "1  C384     IN5101  38395.0   6143.0  44538.0\n",
              "2  E913        NaN  86909.0  11987.0  86909.0\n",
              "3              NaN      NaN      NaN      NaN\n",
              "4              NaN      NaN      NaN      NaN\n",
              "5              NaN      NaN      NaN      NaN\n",
              "6              NaN      NaN      NaN      NaN"
            ]
          },
          "execution_count": 62,
          "metadata": {},
          "output_type": "execute_result"
        }
      ],
      "source": [
        "df_parapoliza.loc[len(df_parapoliza)-1, 'Importe'] = df_parapoliza.loc[len(df_parapoliza)-1, 'Cargo']\n",
        "\n",
        "\n",
        "S=pd.Series({\"CC\":\"\",\"UTILITARIO\": np.nan, 'Importe': df_parapoliza.loc[len(df_parapoliza)-1, 'IVA'] })\n",
        "\n",
        "\n",
        "\n",
        "df_parapoliza=pd.concat([df_parapoliza, S.to_frame().T], ignore_index=True)\n",
        "\n",
        "df_parapoliza"
      ]
    },
    {
      "cell_type": "code",
      "execution_count": 64,
      "metadata": {},
      "outputs": [],
      "source": [
        "Referencia = \"01\""
      ]
    },
    {
      "cell_type": "code",
      "execution_count": 65,
      "metadata": {
        "colab": {
          "base_uri": "https://localhost:8080/",
          "height": 1000
        },
        "id": "6O22Hja89dLr",
        "outputId": "35f8d3ba-1c8e-48ab-b61e-a246aff343a8"
      },
      "outputs": [
        {
          "ename": "ValueError",
          "evalue": "cannot insert plantilla, already exists",
          "output_type": "error",
          "traceback": [
            "\u001b[31m---------------------------------------------------------------------------\u001b[39m",
            "\u001b[31mValueError\u001b[39m                                Traceback (most recent call last)",
            "\u001b[32m~\\AppData\\Local\\Temp\\ipykernel_16744\\2805922113.py\u001b[39m in \u001b[36m?\u001b[39m\u001b[34m()\u001b[39m\n\u001b[32m----> \u001b[39m\u001b[32m1\u001b[39m df_parapoliza.insert(\u001b[32m0\u001b[39m, \u001b[33m'plantilla'\u001b[39m, [\u001b[33m'SVA'\u001b[39m \u001b[38;5;28;01mfor\u001b[39;00m i \u001b[38;5;28;01min\u001b[39;00m range(len(df_parapoliza))] )\n\u001b[32m      2\u001b[39m df_parapoliza.insert(\u001b[32m1\u001b[39m, \u001b[33m'cons'\u001b[39m, [i+\u001b[32m1\u001b[39m \u001b[38;5;28;01mfor\u001b[39;00m i \u001b[38;5;28;01min\u001b[39;00m range(len(df_parapoliza))] )\n\u001b[32m      3\u001b[39m df_parapoliza.insert(\u001b[32m2\u001b[39m, \u001b[33m'comp'\u001b[39m, [\u001b[33m'100'\u001b[39m \u001b[38;5;28;01mfor\u001b[39;00m i \u001b[38;5;28;01min\u001b[39;00m range(len(df_parapoliza))] )\n\u001b[32m      4\u001b[39m \n",
            "\u001b[32m~\\AppData\\Local\\Packages\\PythonSoftwareFoundation.Python.3.13_qbz5n2kfra8p0\\LocalCache\\local-packages\\Python313\\site-packages\\pandas\\core\\frame.py\u001b[39m in \u001b[36m?\u001b[39m\u001b[34m(self, loc, column, value, allow_duplicates)\u001b[39m\n\u001b[32m   5161\u001b[39m                 \u001b[33m\"'self.flags.allows_duplicate_labels' is False.\"\u001b[39m\n\u001b[32m   5162\u001b[39m             )\n\u001b[32m   5163\u001b[39m         \u001b[38;5;28;01mif\u001b[39;00m \u001b[38;5;28;01mnot\u001b[39;00m allow_duplicates \u001b[38;5;28;01mand\u001b[39;00m column \u001b[38;5;28;01min\u001b[39;00m self.columns:\n\u001b[32m   5164\u001b[39m             \u001b[38;5;66;03m# Should this be a different kind of error??\u001b[39;00m\n\u001b[32m-> \u001b[39m\u001b[32m5165\u001b[39m             \u001b[38;5;28;01mraise\u001b[39;00m ValueError(f\"cannot insert {column}, already exists\")\n\u001b[32m   5166\u001b[39m         \u001b[38;5;28;01mif\u001b[39;00m \u001b[38;5;28;01mnot\u001b[39;00m is_integer(loc):\n\u001b[32m   5167\u001b[39m             \u001b[38;5;28;01mraise\u001b[39;00m TypeError(\u001b[33m\"loc must be int\"\u001b[39m)\n\u001b[32m   5168\u001b[39m         \u001b[38;5;66;03m# convert non stdlib ints to satisfy typing checks\u001b[39;00m\n",
            "\u001b[31mValueError\u001b[39m: cannot insert plantilla, already exists"
          ]
        }
      ],
      "source": [
        "df_parapoliza.insert(0, 'plantilla', ['SVA' for i in range(len(df_parapoliza))] )\n",
        "df_parapoliza.insert(1, 'cons', [i+1 for i in range(len(df_parapoliza))] )\n",
        "df_parapoliza.insert(2, 'comp', ['100' for i in range(len(df_parapoliza))] )\n",
        "\n",
        "\n",
        "cta=[]\n",
        "\n",
        "for i in range(len(df_parapoliza)):\n",
        "\n",
        "  CC= df_parapoliza.loc[i, 'CC']\n",
        "\n",
        "  if not  CC.startswith('E')  and  CC != \"D981\" and CC !=\"\":\n",
        "    cta.append(CF)\n",
        "\n",
        "  elif CC.startswith('E') and CC!=\"E913\" :\n",
        "    cta.append(GA)\n",
        "\n",
        "  elif CC==\"D981\" and CC !=\"\" :\n",
        "    cta.append(GV)\n",
        "\n",
        "  elif CC==\"E913\" and CC !=\"\" :\n",
        "\n",
        "    cta.append(Prov_consumo_Sivale)\n",
        "\n",
        "  elif CC== \"\":\n",
        "\n",
        "    cta.append(IVA_por_acreditable)\n",
        "\n",
        "df_parapoliza.insert(3, 'cta', cta)\n",
        "\n",
        "df_parapoliza.insert(6, 'nada', [np.nan for i in range(len(df_parapoliza))] )\n",
        "\n",
        "df_parapoliza.insert(7, 'nada1', [np.nan for i in range(len(df_parapoliza))] )\n",
        "\n",
        "df_parapoliza.insert(8, 'debe/haber', [1 if df_parapoliza.loc[i, 'cta'] .startswith('6') or df_parapoliza.loc[i, 'cta'] .startswith('1')  else 2 for i in range(len(df_parapoliza))] )\n",
        "\n",
        "df_parapoliza.drop(columns=['IVA','Cargo'], inplace= True)\n",
        "\n",
        "df_parapoliza[\"ref\"]= [ 'Consumo Si Vale '+ Referencia for i in range(len(df_parapoliza))]\n",
        "\n",
        "df_parapoliza[\"CC\"]=df_parapoliza[\"CC\"].replace(\"\", np.nan)\n",
        "\n",
        "df_parapoliza"
      ]
    },
    {
      "cell_type": "code",
      "execution_count": null,
      "metadata": {
        "id": "3W_PGJY_H0Hk"
      },
      "outputs": [],
      "source": []
    },
    {
      "cell_type": "code",
      "execution_count": null,
      "metadata": {
        "id": "DjTGp4YtBxs0"
      },
      "outputs": [],
      "source": [
        "with pd.ExcelWriter(Guardarcomo) as writer:\n",
        "  dfsucio.to_excel(writer,sheet_name=\"Sheet1\")\n",
        "  dftd1.to_excel(writer, sheet_name=\"Hoja2\",index=False, startcol=0)\n",
        "  df.to_excel(writer, sheet_name=\"Hoja2\", index= False, startcol=7)\n",
        "  df4.to_excel(writer,sheet_name=\"Hoja3\", index= False)\n",
        "  df_parapoliza.to_excel(writer,sheet_name=\"tfgld013\", index= False, header= False)\n",
        "\n"
      ]
    }
  ],
  "metadata": {
    "colab": {
      "collapsed_sections": [
        "vx0lon7_JdJU",
        "iZdvBgymt1sv",
        "dsjYTLMaNwCh",
        "SUveOLpZN5-4",
        "gD2q5HbgMXOm",
        "yjEAluzMKxht"
      ],
      "provenance": []
    },
    "kernelspec": {
      "display_name": "Python 3",
      "name": "python3"
    },
    "language_info": {
      "codemirror_mode": {
        "name": "ipython",
        "version": 3
      },
      "file_extension": ".py",
      "mimetype": "text/x-python",
      "name": "python",
      "nbconvert_exporter": "python",
      "pygments_lexer": "ipython3",
      "version": "3.13.7"
    }
  },
  "nbformat": 4,
  "nbformat_minor": 0
}
